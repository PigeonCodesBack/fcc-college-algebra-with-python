{
 "cells": [
  {
   "cell_type": "markdown",
   "metadata": {},
   "source": [
    "# Resources\n",
    "\n",
    "Videos throughout these courses will reference problems from these two textbooks:\n",
    "\n",
    "- [Business Math, a Step-by-Step Handbook (2021) by Jean-Paul Oliver](https://lyryx.com/subjects/business/business-mathematics/)\n",
    "    \n",
    "- [Algebra and Trigonometry by Jay Abramson](https://cdn.freecodecamp.org/curriculum/college-algebra/AlgebraAndTrigonometry-OP_1tE6R5r.pdf) - sourced from OpenStax under [Creative Commons Attribution 4.0 International (CC BY 4.0)](https://creativecommons.org/licenses/by/4.0/)\n",
    "    \n",
    "\n",
    "It is also possible to download the Algebra and Trigonometry textbook from the [OpenStax website](https://openstax.org/details/books/algebra-and-trigonometry). You will need to find the correct textbook and then download the PDF. The page numbers for the assignment are based on the first link for this book.\n",
    "\n",
    "[Lesson video](https://youtu.be/bO3Sn10-XNw)"
   ]
  }
 ],
 "metadata": {
  "kernelspec": {
   "display_name": "venv",
   "language": "python",
   "name": "python3"
  },
  "language_info": {
   "codemirror_mode": {
    "name": "ipython",
    "version": 3
   },
   "file_extension": ".py",
   "mimetype": "text/x-python",
   "name": "python",
   "nbconvert_exporter": "python",
   "pygments_lexer": "ipython3",
   "version": "3.13.1"
  }
 },
 "nbformat": 4,
 "nbformat_minor": 2
}
